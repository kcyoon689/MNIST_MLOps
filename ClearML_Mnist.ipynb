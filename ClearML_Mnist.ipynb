{
  "nbformat": 4,
  "nbformat_minor": 0,
  "metadata": {
    "colab": {
      "provenance": [],
      "authorship_tag": "ABX9TyOz6t8ZjXv5fDbevSRrWwby"
    },
    "kernelspec": {
      "name": "python3",
      "display_name": "Python 3"
    },
    "language_info": {
      "name": "python"
    },
    "widgets": {
      "application/vnd.jupyter.widget-state+json": {
        "2cea3f9d41ea47a99e0b73a0c3d40ee6": {
          "model_module": "@jupyter-widgets/controls",
          "model_name": "HBoxModel",
          "model_module_version": "1.5.0",
          "state": {
            "_dom_classes": [],
            "_model_module": "@jupyter-widgets/controls",
            "_model_module_version": "1.5.0",
            "_model_name": "HBoxModel",
            "_view_count": null,
            "_view_module": "@jupyter-widgets/controls",
            "_view_module_version": "1.5.0",
            "_view_name": "HBoxView",
            "box_style": "",
            "children": [
              "IPY_MODEL_450acf04d4b442219d5f12ba81b7c39c",
              "IPY_MODEL_e8eb0f3c48d8418cae6a722857b7444c",
              "IPY_MODEL_fab0480f035a4f928efb877d198b36f2"
            ],
            "layout": "IPY_MODEL_f69a1a6811174962bc666710ff31d7b5"
          }
        },
        "450acf04d4b442219d5f12ba81b7c39c": {
          "model_module": "@jupyter-widgets/controls",
          "model_name": "HTMLModel",
          "model_module_version": "1.5.0",
          "state": {
            "_dom_classes": [],
            "_model_module": "@jupyter-widgets/controls",
            "_model_module_version": "1.5.0",
            "_model_name": "HTMLModel",
            "_view_count": null,
            "_view_module": "@jupyter-widgets/controls",
            "_view_module_version": "1.5.0",
            "_view_name": "HTMLView",
            "description": "",
            "description_tooltip": null,
            "layout": "IPY_MODEL_511a47798523407e80370d4a95369e31",
            "placeholder": "​",
            "style": "IPY_MODEL_45c482dab0094a499fb5c9a03fc6f608",
            "value": "100%"
          }
        },
        "e8eb0f3c48d8418cae6a722857b7444c": {
          "model_module": "@jupyter-widgets/controls",
          "model_name": "FloatProgressModel",
          "model_module_version": "1.5.0",
          "state": {
            "_dom_classes": [],
            "_model_module": "@jupyter-widgets/controls",
            "_model_module_version": "1.5.0",
            "_model_name": "FloatProgressModel",
            "_view_count": null,
            "_view_module": "@jupyter-widgets/controls",
            "_view_module_version": "1.5.0",
            "_view_name": "ProgressView",
            "bar_style": "success",
            "description": "",
            "description_tooltip": null,
            "layout": "IPY_MODEL_6f3c7fe5e9994161927bb542002991ed",
            "max": 9912422,
            "min": 0,
            "orientation": "horizontal",
            "style": "IPY_MODEL_53ff86f7f91e4da383bdfc656aee6a8d",
            "value": 9912422
          }
        },
        "fab0480f035a4f928efb877d198b36f2": {
          "model_module": "@jupyter-widgets/controls",
          "model_name": "HTMLModel",
          "model_module_version": "1.5.0",
          "state": {
            "_dom_classes": [],
            "_model_module": "@jupyter-widgets/controls",
            "_model_module_version": "1.5.0",
            "_model_name": "HTMLModel",
            "_view_count": null,
            "_view_module": "@jupyter-widgets/controls",
            "_view_module_version": "1.5.0",
            "_view_name": "HTMLView",
            "description": "",
            "description_tooltip": null,
            "layout": "IPY_MODEL_72bafb4144a84eb0a320daba65ee337f",
            "placeholder": "​",
            "style": "IPY_MODEL_da343ae52f8c4314ba5fa839da0b7e3d",
            "value": " 9912422/9912422 [00:00&lt;00:00, 14249713.87it/s]"
          }
        },
        "f69a1a6811174962bc666710ff31d7b5": {
          "model_module": "@jupyter-widgets/base",
          "model_name": "LayoutModel",
          "model_module_version": "1.2.0",
          "state": {
            "_model_module": "@jupyter-widgets/base",
            "_model_module_version": "1.2.0",
            "_model_name": "LayoutModel",
            "_view_count": null,
            "_view_module": "@jupyter-widgets/base",
            "_view_module_version": "1.2.0",
            "_view_name": "LayoutView",
            "align_content": null,
            "align_items": null,
            "align_self": null,
            "border": null,
            "bottom": null,
            "display": null,
            "flex": null,
            "flex_flow": null,
            "grid_area": null,
            "grid_auto_columns": null,
            "grid_auto_flow": null,
            "grid_auto_rows": null,
            "grid_column": null,
            "grid_gap": null,
            "grid_row": null,
            "grid_template_areas": null,
            "grid_template_columns": null,
            "grid_template_rows": null,
            "height": null,
            "justify_content": null,
            "justify_items": null,
            "left": null,
            "margin": null,
            "max_height": null,
            "max_width": null,
            "min_height": null,
            "min_width": null,
            "object_fit": null,
            "object_position": null,
            "order": null,
            "overflow": null,
            "overflow_x": null,
            "overflow_y": null,
            "padding": null,
            "right": null,
            "top": null,
            "visibility": null,
            "width": null
          }
        },
        "511a47798523407e80370d4a95369e31": {
          "model_module": "@jupyter-widgets/base",
          "model_name": "LayoutModel",
          "model_module_version": "1.2.0",
          "state": {
            "_model_module": "@jupyter-widgets/base",
            "_model_module_version": "1.2.0",
            "_model_name": "LayoutModel",
            "_view_count": null,
            "_view_module": "@jupyter-widgets/base",
            "_view_module_version": "1.2.0",
            "_view_name": "LayoutView",
            "align_content": null,
            "align_items": null,
            "align_self": null,
            "border": null,
            "bottom": null,
            "display": null,
            "flex": null,
            "flex_flow": null,
            "grid_area": null,
            "grid_auto_columns": null,
            "grid_auto_flow": null,
            "grid_auto_rows": null,
            "grid_column": null,
            "grid_gap": null,
            "grid_row": null,
            "grid_template_areas": null,
            "grid_template_columns": null,
            "grid_template_rows": null,
            "height": null,
            "justify_content": null,
            "justify_items": null,
            "left": null,
            "margin": null,
            "max_height": null,
            "max_width": null,
            "min_height": null,
            "min_width": null,
            "object_fit": null,
            "object_position": null,
            "order": null,
            "overflow": null,
            "overflow_x": null,
            "overflow_y": null,
            "padding": null,
            "right": null,
            "top": null,
            "visibility": null,
            "width": null
          }
        },
        "45c482dab0094a499fb5c9a03fc6f608": {
          "model_module": "@jupyter-widgets/controls",
          "model_name": "DescriptionStyleModel",
          "model_module_version": "1.5.0",
          "state": {
            "_model_module": "@jupyter-widgets/controls",
            "_model_module_version": "1.5.0",
            "_model_name": "DescriptionStyleModel",
            "_view_count": null,
            "_view_module": "@jupyter-widgets/base",
            "_view_module_version": "1.2.0",
            "_view_name": "StyleView",
            "description_width": ""
          }
        },
        "6f3c7fe5e9994161927bb542002991ed": {
          "model_module": "@jupyter-widgets/base",
          "model_name": "LayoutModel",
          "model_module_version": "1.2.0",
          "state": {
            "_model_module": "@jupyter-widgets/base",
            "_model_module_version": "1.2.0",
            "_model_name": "LayoutModel",
            "_view_count": null,
            "_view_module": "@jupyter-widgets/base",
            "_view_module_version": "1.2.0",
            "_view_name": "LayoutView",
            "align_content": null,
            "align_items": null,
            "align_self": null,
            "border": null,
            "bottom": null,
            "display": null,
            "flex": null,
            "flex_flow": null,
            "grid_area": null,
            "grid_auto_columns": null,
            "grid_auto_flow": null,
            "grid_auto_rows": null,
            "grid_column": null,
            "grid_gap": null,
            "grid_row": null,
            "grid_template_areas": null,
            "grid_template_columns": null,
            "grid_template_rows": null,
            "height": null,
            "justify_content": null,
            "justify_items": null,
            "left": null,
            "margin": null,
            "max_height": null,
            "max_width": null,
            "min_height": null,
            "min_width": null,
            "object_fit": null,
            "object_position": null,
            "order": null,
            "overflow": null,
            "overflow_x": null,
            "overflow_y": null,
            "padding": null,
            "right": null,
            "top": null,
            "visibility": null,
            "width": null
          }
        },
        "53ff86f7f91e4da383bdfc656aee6a8d": {
          "model_module": "@jupyter-widgets/controls",
          "model_name": "ProgressStyleModel",
          "model_module_version": "1.5.0",
          "state": {
            "_model_module": "@jupyter-widgets/controls",
            "_model_module_version": "1.5.0",
            "_model_name": "ProgressStyleModel",
            "_view_count": null,
            "_view_module": "@jupyter-widgets/base",
            "_view_module_version": "1.2.0",
            "_view_name": "StyleView",
            "bar_color": null,
            "description_width": ""
          }
        },
        "72bafb4144a84eb0a320daba65ee337f": {
          "model_module": "@jupyter-widgets/base",
          "model_name": "LayoutModel",
          "model_module_version": "1.2.0",
          "state": {
            "_model_module": "@jupyter-widgets/base",
            "_model_module_version": "1.2.0",
            "_model_name": "LayoutModel",
            "_view_count": null,
            "_view_module": "@jupyter-widgets/base",
            "_view_module_version": "1.2.0",
            "_view_name": "LayoutView",
            "align_content": null,
            "align_items": null,
            "align_self": null,
            "border": null,
            "bottom": null,
            "display": null,
            "flex": null,
            "flex_flow": null,
            "grid_area": null,
            "grid_auto_columns": null,
            "grid_auto_flow": null,
            "grid_auto_rows": null,
            "grid_column": null,
            "grid_gap": null,
            "grid_row": null,
            "grid_template_areas": null,
            "grid_template_columns": null,
            "grid_template_rows": null,
            "height": null,
            "justify_content": null,
            "justify_items": null,
            "left": null,
            "margin": null,
            "max_height": null,
            "max_width": null,
            "min_height": null,
            "min_width": null,
            "object_fit": null,
            "object_position": null,
            "order": null,
            "overflow": null,
            "overflow_x": null,
            "overflow_y": null,
            "padding": null,
            "right": null,
            "top": null,
            "visibility": null,
            "width": null
          }
        },
        "da343ae52f8c4314ba5fa839da0b7e3d": {
          "model_module": "@jupyter-widgets/controls",
          "model_name": "DescriptionStyleModel",
          "model_module_version": "1.5.0",
          "state": {
            "_model_module": "@jupyter-widgets/controls",
            "_model_module_version": "1.5.0",
            "_model_name": "DescriptionStyleModel",
            "_view_count": null,
            "_view_module": "@jupyter-widgets/base",
            "_view_module_version": "1.2.0",
            "_view_name": "StyleView",
            "description_width": ""
          }
        },
        "49868a16aa204fc7b6c0b3e94f329b85": {
          "model_module": "@jupyter-widgets/controls",
          "model_name": "HBoxModel",
          "model_module_version": "1.5.0",
          "state": {
            "_dom_classes": [],
            "_model_module": "@jupyter-widgets/controls",
            "_model_module_version": "1.5.0",
            "_model_name": "HBoxModel",
            "_view_count": null,
            "_view_module": "@jupyter-widgets/controls",
            "_view_module_version": "1.5.0",
            "_view_name": "HBoxView",
            "box_style": "",
            "children": [
              "IPY_MODEL_b4448c9635524f98aa58c276fde9aa93",
              "IPY_MODEL_c22185e3688a4868b099edecc4526e32",
              "IPY_MODEL_c633e4b3edf44a2d91964158df7d53b0"
            ],
            "layout": "IPY_MODEL_e5a4c758697d4cd7a9c6615068495599"
          }
        },
        "b4448c9635524f98aa58c276fde9aa93": {
          "model_module": "@jupyter-widgets/controls",
          "model_name": "HTMLModel",
          "model_module_version": "1.5.0",
          "state": {
            "_dom_classes": [],
            "_model_module": "@jupyter-widgets/controls",
            "_model_module_version": "1.5.0",
            "_model_name": "HTMLModel",
            "_view_count": null,
            "_view_module": "@jupyter-widgets/controls",
            "_view_module_version": "1.5.0",
            "_view_name": "HTMLView",
            "description": "",
            "description_tooltip": null,
            "layout": "IPY_MODEL_1defd0c1cbee4c4788cb4e22443bfdd0",
            "placeholder": "​",
            "style": "IPY_MODEL_fd5355d652314293ace2365dab95a29b",
            "value": "100%"
          }
        },
        "c22185e3688a4868b099edecc4526e32": {
          "model_module": "@jupyter-widgets/controls",
          "model_name": "FloatProgressModel",
          "model_module_version": "1.5.0",
          "state": {
            "_dom_classes": [],
            "_model_module": "@jupyter-widgets/controls",
            "_model_module_version": "1.5.0",
            "_model_name": "FloatProgressModel",
            "_view_count": null,
            "_view_module": "@jupyter-widgets/controls",
            "_view_module_version": "1.5.0",
            "_view_name": "ProgressView",
            "bar_style": "success",
            "description": "",
            "description_tooltip": null,
            "layout": "IPY_MODEL_31e6dfa0b423421ca899bf0496520d37",
            "max": 28881,
            "min": 0,
            "orientation": "horizontal",
            "style": "IPY_MODEL_27c1d05883c44072aa0c015f0998cf8e",
            "value": 28881
          }
        },
        "c633e4b3edf44a2d91964158df7d53b0": {
          "model_module": "@jupyter-widgets/controls",
          "model_name": "HTMLModel",
          "model_module_version": "1.5.0",
          "state": {
            "_dom_classes": [],
            "_model_module": "@jupyter-widgets/controls",
            "_model_module_version": "1.5.0",
            "_model_name": "HTMLModel",
            "_view_count": null,
            "_view_module": "@jupyter-widgets/controls",
            "_view_module_version": "1.5.0",
            "_view_name": "HTMLView",
            "description": "",
            "description_tooltip": null,
            "layout": "IPY_MODEL_72b4b1b0d8324bdf9fa6bf5a300d5ec4",
            "placeholder": "​",
            "style": "IPY_MODEL_4afc21150e7942a78bba62fa67b4895c",
            "value": " 28881/28881 [00:00&lt;00:00, 1239290.55it/s]"
          }
        },
        "e5a4c758697d4cd7a9c6615068495599": {
          "model_module": "@jupyter-widgets/base",
          "model_name": "LayoutModel",
          "model_module_version": "1.2.0",
          "state": {
            "_model_module": "@jupyter-widgets/base",
            "_model_module_version": "1.2.0",
            "_model_name": "LayoutModel",
            "_view_count": null,
            "_view_module": "@jupyter-widgets/base",
            "_view_module_version": "1.2.0",
            "_view_name": "LayoutView",
            "align_content": null,
            "align_items": null,
            "align_self": null,
            "border": null,
            "bottom": null,
            "display": null,
            "flex": null,
            "flex_flow": null,
            "grid_area": null,
            "grid_auto_columns": null,
            "grid_auto_flow": null,
            "grid_auto_rows": null,
            "grid_column": null,
            "grid_gap": null,
            "grid_row": null,
            "grid_template_areas": null,
            "grid_template_columns": null,
            "grid_template_rows": null,
            "height": null,
            "justify_content": null,
            "justify_items": null,
            "left": null,
            "margin": null,
            "max_height": null,
            "max_width": null,
            "min_height": null,
            "min_width": null,
            "object_fit": null,
            "object_position": null,
            "order": null,
            "overflow": null,
            "overflow_x": null,
            "overflow_y": null,
            "padding": null,
            "right": null,
            "top": null,
            "visibility": null,
            "width": null
          }
        },
        "1defd0c1cbee4c4788cb4e22443bfdd0": {
          "model_module": "@jupyter-widgets/base",
          "model_name": "LayoutModel",
          "model_module_version": "1.2.0",
          "state": {
            "_model_module": "@jupyter-widgets/base",
            "_model_module_version": "1.2.0",
            "_model_name": "LayoutModel",
            "_view_count": null,
            "_view_module": "@jupyter-widgets/base",
            "_view_module_version": "1.2.0",
            "_view_name": "LayoutView",
            "align_content": null,
            "align_items": null,
            "align_self": null,
            "border": null,
            "bottom": null,
            "display": null,
            "flex": null,
            "flex_flow": null,
            "grid_area": null,
            "grid_auto_columns": null,
            "grid_auto_flow": null,
            "grid_auto_rows": null,
            "grid_column": null,
            "grid_gap": null,
            "grid_row": null,
            "grid_template_areas": null,
            "grid_template_columns": null,
            "grid_template_rows": null,
            "height": null,
            "justify_content": null,
            "justify_items": null,
            "left": null,
            "margin": null,
            "max_height": null,
            "max_width": null,
            "min_height": null,
            "min_width": null,
            "object_fit": null,
            "object_position": null,
            "order": null,
            "overflow": null,
            "overflow_x": null,
            "overflow_y": null,
            "padding": null,
            "right": null,
            "top": null,
            "visibility": null,
            "width": null
          }
        },
        "fd5355d652314293ace2365dab95a29b": {
          "model_module": "@jupyter-widgets/controls",
          "model_name": "DescriptionStyleModel",
          "model_module_version": "1.5.0",
          "state": {
            "_model_module": "@jupyter-widgets/controls",
            "_model_module_version": "1.5.0",
            "_model_name": "DescriptionStyleModel",
            "_view_count": null,
            "_view_module": "@jupyter-widgets/base",
            "_view_module_version": "1.2.0",
            "_view_name": "StyleView",
            "description_width": ""
          }
        },
        "31e6dfa0b423421ca899bf0496520d37": {
          "model_module": "@jupyter-widgets/base",
          "model_name": "LayoutModel",
          "model_module_version": "1.2.0",
          "state": {
            "_model_module": "@jupyter-widgets/base",
            "_model_module_version": "1.2.0",
            "_model_name": "LayoutModel",
            "_view_count": null,
            "_view_module": "@jupyter-widgets/base",
            "_view_module_version": "1.2.0",
            "_view_name": "LayoutView",
            "align_content": null,
            "align_items": null,
            "align_self": null,
            "border": null,
            "bottom": null,
            "display": null,
            "flex": null,
            "flex_flow": null,
            "grid_area": null,
            "grid_auto_columns": null,
            "grid_auto_flow": null,
            "grid_auto_rows": null,
            "grid_column": null,
            "grid_gap": null,
            "grid_row": null,
            "grid_template_areas": null,
            "grid_template_columns": null,
            "grid_template_rows": null,
            "height": null,
            "justify_content": null,
            "justify_items": null,
            "left": null,
            "margin": null,
            "max_height": null,
            "max_width": null,
            "min_height": null,
            "min_width": null,
            "object_fit": null,
            "object_position": null,
            "order": null,
            "overflow": null,
            "overflow_x": null,
            "overflow_y": null,
            "padding": null,
            "right": null,
            "top": null,
            "visibility": null,
            "width": null
          }
        },
        "27c1d05883c44072aa0c015f0998cf8e": {
          "model_module": "@jupyter-widgets/controls",
          "model_name": "ProgressStyleModel",
          "model_module_version": "1.5.0",
          "state": {
            "_model_module": "@jupyter-widgets/controls",
            "_model_module_version": "1.5.0",
            "_model_name": "ProgressStyleModel",
            "_view_count": null,
            "_view_module": "@jupyter-widgets/base",
            "_view_module_version": "1.2.0",
            "_view_name": "StyleView",
            "bar_color": null,
            "description_width": ""
          }
        },
        "72b4b1b0d8324bdf9fa6bf5a300d5ec4": {
          "model_module": "@jupyter-widgets/base",
          "model_name": "LayoutModel",
          "model_module_version": "1.2.0",
          "state": {
            "_model_module": "@jupyter-widgets/base",
            "_model_module_version": "1.2.0",
            "_model_name": "LayoutModel",
            "_view_count": null,
            "_view_module": "@jupyter-widgets/base",
            "_view_module_version": "1.2.0",
            "_view_name": "LayoutView",
            "align_content": null,
            "align_items": null,
            "align_self": null,
            "border": null,
            "bottom": null,
            "display": null,
            "flex": null,
            "flex_flow": null,
            "grid_area": null,
            "grid_auto_columns": null,
            "grid_auto_flow": null,
            "grid_auto_rows": null,
            "grid_column": null,
            "grid_gap": null,
            "grid_row": null,
            "grid_template_areas": null,
            "grid_template_columns": null,
            "grid_template_rows": null,
            "height": null,
            "justify_content": null,
            "justify_items": null,
            "left": null,
            "margin": null,
            "max_height": null,
            "max_width": null,
            "min_height": null,
            "min_width": null,
            "object_fit": null,
            "object_position": null,
            "order": null,
            "overflow": null,
            "overflow_x": null,
            "overflow_y": null,
            "padding": null,
            "right": null,
            "top": null,
            "visibility": null,
            "width": null
          }
        },
        "4afc21150e7942a78bba62fa67b4895c": {
          "model_module": "@jupyter-widgets/controls",
          "model_name": "DescriptionStyleModel",
          "model_module_version": "1.5.0",
          "state": {
            "_model_module": "@jupyter-widgets/controls",
            "_model_module_version": "1.5.0",
            "_model_name": "DescriptionStyleModel",
            "_view_count": null,
            "_view_module": "@jupyter-widgets/base",
            "_view_module_version": "1.2.0",
            "_view_name": "StyleView",
            "description_width": ""
          }
        },
        "2696d570e6ca40d2b82834a711465326": {
          "model_module": "@jupyter-widgets/controls",
          "model_name": "HBoxModel",
          "model_module_version": "1.5.0",
          "state": {
            "_dom_classes": [],
            "_model_module": "@jupyter-widgets/controls",
            "_model_module_version": "1.5.0",
            "_model_name": "HBoxModel",
            "_view_count": null,
            "_view_module": "@jupyter-widgets/controls",
            "_view_module_version": "1.5.0",
            "_view_name": "HBoxView",
            "box_style": "",
            "children": [
              "IPY_MODEL_5bdc422cb44a4a8a9a9cdb8cde010e79",
              "IPY_MODEL_4712462623524db0b81be4598a67a701",
              "IPY_MODEL_4faac71bc31d4a7593e64779e74cb95a"
            ],
            "layout": "IPY_MODEL_b53aa2917019445fb3bf749f02c10076"
          }
        },
        "5bdc422cb44a4a8a9a9cdb8cde010e79": {
          "model_module": "@jupyter-widgets/controls",
          "model_name": "HTMLModel",
          "model_module_version": "1.5.0",
          "state": {
            "_dom_classes": [],
            "_model_module": "@jupyter-widgets/controls",
            "_model_module_version": "1.5.0",
            "_model_name": "HTMLModel",
            "_view_count": null,
            "_view_module": "@jupyter-widgets/controls",
            "_view_module_version": "1.5.0",
            "_view_name": "HTMLView",
            "description": "",
            "description_tooltip": null,
            "layout": "IPY_MODEL_501fa4d36af54501ba457c537c292285",
            "placeholder": "​",
            "style": "IPY_MODEL_21ee76bda6354a07b884ed42f099de03",
            "value": "100%"
          }
        },
        "4712462623524db0b81be4598a67a701": {
          "model_module": "@jupyter-widgets/controls",
          "model_name": "FloatProgressModel",
          "model_module_version": "1.5.0",
          "state": {
            "_dom_classes": [],
            "_model_module": "@jupyter-widgets/controls",
            "_model_module_version": "1.5.0",
            "_model_name": "FloatProgressModel",
            "_view_count": null,
            "_view_module": "@jupyter-widgets/controls",
            "_view_module_version": "1.5.0",
            "_view_name": "ProgressView",
            "bar_style": "success",
            "description": "",
            "description_tooltip": null,
            "layout": "IPY_MODEL_10cb0c32928c4040bcf788c25724ffd3",
            "max": 1648877,
            "min": 0,
            "orientation": "horizontal",
            "style": "IPY_MODEL_4f320b82e56b4ca6b7a7daf082648ea9",
            "value": 1648877
          }
        },
        "4faac71bc31d4a7593e64779e74cb95a": {
          "model_module": "@jupyter-widgets/controls",
          "model_name": "HTMLModel",
          "model_module_version": "1.5.0",
          "state": {
            "_dom_classes": [],
            "_model_module": "@jupyter-widgets/controls",
            "_model_module_version": "1.5.0",
            "_model_name": "HTMLModel",
            "_view_count": null,
            "_view_module": "@jupyter-widgets/controls",
            "_view_module_version": "1.5.0",
            "_view_name": "HTMLView",
            "description": "",
            "description_tooltip": null,
            "layout": "IPY_MODEL_04cbd0e2c46f48efbef449fe596dc50f",
            "placeholder": "​",
            "style": "IPY_MODEL_1aa5b4fc3c114bd78364937e1cf677bf",
            "value": " 1648877/1648877 [00:00&lt;00:00, 18082369.14it/s]"
          }
        },
        "b53aa2917019445fb3bf749f02c10076": {
          "model_module": "@jupyter-widgets/base",
          "model_name": "LayoutModel",
          "model_module_version": "1.2.0",
          "state": {
            "_model_module": "@jupyter-widgets/base",
            "_model_module_version": "1.2.0",
            "_model_name": "LayoutModel",
            "_view_count": null,
            "_view_module": "@jupyter-widgets/base",
            "_view_module_version": "1.2.0",
            "_view_name": "LayoutView",
            "align_content": null,
            "align_items": null,
            "align_self": null,
            "border": null,
            "bottom": null,
            "display": null,
            "flex": null,
            "flex_flow": null,
            "grid_area": null,
            "grid_auto_columns": null,
            "grid_auto_flow": null,
            "grid_auto_rows": null,
            "grid_column": null,
            "grid_gap": null,
            "grid_row": null,
            "grid_template_areas": null,
            "grid_template_columns": null,
            "grid_template_rows": null,
            "height": null,
            "justify_content": null,
            "justify_items": null,
            "left": null,
            "margin": null,
            "max_height": null,
            "max_width": null,
            "min_height": null,
            "min_width": null,
            "object_fit": null,
            "object_position": null,
            "order": null,
            "overflow": null,
            "overflow_x": null,
            "overflow_y": null,
            "padding": null,
            "right": null,
            "top": null,
            "visibility": null,
            "width": null
          }
        },
        "501fa4d36af54501ba457c537c292285": {
          "model_module": "@jupyter-widgets/base",
          "model_name": "LayoutModel",
          "model_module_version": "1.2.0",
          "state": {
            "_model_module": "@jupyter-widgets/base",
            "_model_module_version": "1.2.0",
            "_model_name": "LayoutModel",
            "_view_count": null,
            "_view_module": "@jupyter-widgets/base",
            "_view_module_version": "1.2.0",
            "_view_name": "LayoutView",
            "align_content": null,
            "align_items": null,
            "align_self": null,
            "border": null,
            "bottom": null,
            "display": null,
            "flex": null,
            "flex_flow": null,
            "grid_area": null,
            "grid_auto_columns": null,
            "grid_auto_flow": null,
            "grid_auto_rows": null,
            "grid_column": null,
            "grid_gap": null,
            "grid_row": null,
            "grid_template_areas": null,
            "grid_template_columns": null,
            "grid_template_rows": null,
            "height": null,
            "justify_content": null,
            "justify_items": null,
            "left": null,
            "margin": null,
            "max_height": null,
            "max_width": null,
            "min_height": null,
            "min_width": null,
            "object_fit": null,
            "object_position": null,
            "order": null,
            "overflow": null,
            "overflow_x": null,
            "overflow_y": null,
            "padding": null,
            "right": null,
            "top": null,
            "visibility": null,
            "width": null
          }
        },
        "21ee76bda6354a07b884ed42f099de03": {
          "model_module": "@jupyter-widgets/controls",
          "model_name": "DescriptionStyleModel",
          "model_module_version": "1.5.0",
          "state": {
            "_model_module": "@jupyter-widgets/controls",
            "_model_module_version": "1.5.0",
            "_model_name": "DescriptionStyleModel",
            "_view_count": null,
            "_view_module": "@jupyter-widgets/base",
            "_view_module_version": "1.2.0",
            "_view_name": "StyleView",
            "description_width": ""
          }
        },
        "10cb0c32928c4040bcf788c25724ffd3": {
          "model_module": "@jupyter-widgets/base",
          "model_name": "LayoutModel",
          "model_module_version": "1.2.0",
          "state": {
            "_model_module": "@jupyter-widgets/base",
            "_model_module_version": "1.2.0",
            "_model_name": "LayoutModel",
            "_view_count": null,
            "_view_module": "@jupyter-widgets/base",
            "_view_module_version": "1.2.0",
            "_view_name": "LayoutView",
            "align_content": null,
            "align_items": null,
            "align_self": null,
            "border": null,
            "bottom": null,
            "display": null,
            "flex": null,
            "flex_flow": null,
            "grid_area": null,
            "grid_auto_columns": null,
            "grid_auto_flow": null,
            "grid_auto_rows": null,
            "grid_column": null,
            "grid_gap": null,
            "grid_row": null,
            "grid_template_areas": null,
            "grid_template_columns": null,
            "grid_template_rows": null,
            "height": null,
            "justify_content": null,
            "justify_items": null,
            "left": null,
            "margin": null,
            "max_height": null,
            "max_width": null,
            "min_height": null,
            "min_width": null,
            "object_fit": null,
            "object_position": null,
            "order": null,
            "overflow": null,
            "overflow_x": null,
            "overflow_y": null,
            "padding": null,
            "right": null,
            "top": null,
            "visibility": null,
            "width": null
          }
        },
        "4f320b82e56b4ca6b7a7daf082648ea9": {
          "model_module": "@jupyter-widgets/controls",
          "model_name": "ProgressStyleModel",
          "model_module_version": "1.5.0",
          "state": {
            "_model_module": "@jupyter-widgets/controls",
            "_model_module_version": "1.5.0",
            "_model_name": "ProgressStyleModel",
            "_view_count": null,
            "_view_module": "@jupyter-widgets/base",
            "_view_module_version": "1.2.0",
            "_view_name": "StyleView",
            "bar_color": null,
            "description_width": ""
          }
        },
        "04cbd0e2c46f48efbef449fe596dc50f": {
          "model_module": "@jupyter-widgets/base",
          "model_name": "LayoutModel",
          "model_module_version": "1.2.0",
          "state": {
            "_model_module": "@jupyter-widgets/base",
            "_model_module_version": "1.2.0",
            "_model_name": "LayoutModel",
            "_view_count": null,
            "_view_module": "@jupyter-widgets/base",
            "_view_module_version": "1.2.0",
            "_view_name": "LayoutView",
            "align_content": null,
            "align_items": null,
            "align_self": null,
            "border": null,
            "bottom": null,
            "display": null,
            "flex": null,
            "flex_flow": null,
            "grid_area": null,
            "grid_auto_columns": null,
            "grid_auto_flow": null,
            "grid_auto_rows": null,
            "grid_column": null,
            "grid_gap": null,
            "grid_row": null,
            "grid_template_areas": null,
            "grid_template_columns": null,
            "grid_template_rows": null,
            "height": null,
            "justify_content": null,
            "justify_items": null,
            "left": null,
            "margin": null,
            "max_height": null,
            "max_width": null,
            "min_height": null,
            "min_width": null,
            "object_fit": null,
            "object_position": null,
            "order": null,
            "overflow": null,
            "overflow_x": null,
            "overflow_y": null,
            "padding": null,
            "right": null,
            "top": null,
            "visibility": null,
            "width": null
          }
        },
        "1aa5b4fc3c114bd78364937e1cf677bf": {
          "model_module": "@jupyter-widgets/controls",
          "model_name": "DescriptionStyleModel",
          "model_module_version": "1.5.0",
          "state": {
            "_model_module": "@jupyter-widgets/controls",
            "_model_module_version": "1.5.0",
            "_model_name": "DescriptionStyleModel",
            "_view_count": null,
            "_view_module": "@jupyter-widgets/base",
            "_view_module_version": "1.2.0",
            "_view_name": "StyleView",
            "description_width": ""
          }
        },
        "75fd8b189dff447595836bea8bf8a2d0": {
          "model_module": "@jupyter-widgets/controls",
          "model_name": "HBoxModel",
          "model_module_version": "1.5.0",
          "state": {
            "_dom_classes": [],
            "_model_module": "@jupyter-widgets/controls",
            "_model_module_version": "1.5.0",
            "_model_name": "HBoxModel",
            "_view_count": null,
            "_view_module": "@jupyter-widgets/controls",
            "_view_module_version": "1.5.0",
            "_view_name": "HBoxView",
            "box_style": "",
            "children": [
              "IPY_MODEL_03bff3c81c5c4902b933c0054075f7e6",
              "IPY_MODEL_01d65e590d9047238a15bcfdf9538718",
              "IPY_MODEL_0e62b2ce5a5a4a6a8b5998590cf5951c"
            ],
            "layout": "IPY_MODEL_3d8f76a77dcc4b32add2a25bf6e8a261"
          }
        },
        "03bff3c81c5c4902b933c0054075f7e6": {
          "model_module": "@jupyter-widgets/controls",
          "model_name": "HTMLModel",
          "model_module_version": "1.5.0",
          "state": {
            "_dom_classes": [],
            "_model_module": "@jupyter-widgets/controls",
            "_model_module_version": "1.5.0",
            "_model_name": "HTMLModel",
            "_view_count": null,
            "_view_module": "@jupyter-widgets/controls",
            "_view_module_version": "1.5.0",
            "_view_name": "HTMLView",
            "description": "",
            "description_tooltip": null,
            "layout": "IPY_MODEL_fa435dfc07eb423086c1ef50f6ae1524",
            "placeholder": "​",
            "style": "IPY_MODEL_7b83ab254f5d4069ab690b5a00099afa",
            "value": "100%"
          }
        },
        "01d65e590d9047238a15bcfdf9538718": {
          "model_module": "@jupyter-widgets/controls",
          "model_name": "FloatProgressModel",
          "model_module_version": "1.5.0",
          "state": {
            "_dom_classes": [],
            "_model_module": "@jupyter-widgets/controls",
            "_model_module_version": "1.5.0",
            "_model_name": "FloatProgressModel",
            "_view_count": null,
            "_view_module": "@jupyter-widgets/controls",
            "_view_module_version": "1.5.0",
            "_view_name": "ProgressView",
            "bar_style": "success",
            "description": "",
            "description_tooltip": null,
            "layout": "IPY_MODEL_c6cec5df6a714c6085d97c45eb816b05",
            "max": 4542,
            "min": 0,
            "orientation": "horizontal",
            "style": "IPY_MODEL_bf55f2d3175b4c80b1dd76cdaa35115b",
            "value": 4542
          }
        },
        "0e62b2ce5a5a4a6a8b5998590cf5951c": {
          "model_module": "@jupyter-widgets/controls",
          "model_name": "HTMLModel",
          "model_module_version": "1.5.0",
          "state": {
            "_dom_classes": [],
            "_model_module": "@jupyter-widgets/controls",
            "_model_module_version": "1.5.0",
            "_model_name": "HTMLModel",
            "_view_count": null,
            "_view_module": "@jupyter-widgets/controls",
            "_view_module_version": "1.5.0",
            "_view_name": "HTMLView",
            "description": "",
            "description_tooltip": null,
            "layout": "IPY_MODEL_291725b9a09d4253bc2e190c866ebd05",
            "placeholder": "​",
            "style": "IPY_MODEL_69410fec719d4ca498c806a9f1bd5c24",
            "value": " 4542/4542 [00:00&lt;00:00, 120337.62it/s]"
          }
        },
        "3d8f76a77dcc4b32add2a25bf6e8a261": {
          "model_module": "@jupyter-widgets/base",
          "model_name": "LayoutModel",
          "model_module_version": "1.2.0",
          "state": {
            "_model_module": "@jupyter-widgets/base",
            "_model_module_version": "1.2.0",
            "_model_name": "LayoutModel",
            "_view_count": null,
            "_view_module": "@jupyter-widgets/base",
            "_view_module_version": "1.2.0",
            "_view_name": "LayoutView",
            "align_content": null,
            "align_items": null,
            "align_self": null,
            "border": null,
            "bottom": null,
            "display": null,
            "flex": null,
            "flex_flow": null,
            "grid_area": null,
            "grid_auto_columns": null,
            "grid_auto_flow": null,
            "grid_auto_rows": null,
            "grid_column": null,
            "grid_gap": null,
            "grid_row": null,
            "grid_template_areas": null,
            "grid_template_columns": null,
            "grid_template_rows": null,
            "height": null,
            "justify_content": null,
            "justify_items": null,
            "left": null,
            "margin": null,
            "max_height": null,
            "max_width": null,
            "min_height": null,
            "min_width": null,
            "object_fit": null,
            "object_position": null,
            "order": null,
            "overflow": null,
            "overflow_x": null,
            "overflow_y": null,
            "padding": null,
            "right": null,
            "top": null,
            "visibility": null,
            "width": null
          }
        },
        "fa435dfc07eb423086c1ef50f6ae1524": {
          "model_module": "@jupyter-widgets/base",
          "model_name": "LayoutModel",
          "model_module_version": "1.2.0",
          "state": {
            "_model_module": "@jupyter-widgets/base",
            "_model_module_version": "1.2.0",
            "_model_name": "LayoutModel",
            "_view_count": null,
            "_view_module": "@jupyter-widgets/base",
            "_view_module_version": "1.2.0",
            "_view_name": "LayoutView",
            "align_content": null,
            "align_items": null,
            "align_self": null,
            "border": null,
            "bottom": null,
            "display": null,
            "flex": null,
            "flex_flow": null,
            "grid_area": null,
            "grid_auto_columns": null,
            "grid_auto_flow": null,
            "grid_auto_rows": null,
            "grid_column": null,
            "grid_gap": null,
            "grid_row": null,
            "grid_template_areas": null,
            "grid_template_columns": null,
            "grid_template_rows": null,
            "height": null,
            "justify_content": null,
            "justify_items": null,
            "left": null,
            "margin": null,
            "max_height": null,
            "max_width": null,
            "min_height": null,
            "min_width": null,
            "object_fit": null,
            "object_position": null,
            "order": null,
            "overflow": null,
            "overflow_x": null,
            "overflow_y": null,
            "padding": null,
            "right": null,
            "top": null,
            "visibility": null,
            "width": null
          }
        },
        "7b83ab254f5d4069ab690b5a00099afa": {
          "model_module": "@jupyter-widgets/controls",
          "model_name": "DescriptionStyleModel",
          "model_module_version": "1.5.0",
          "state": {
            "_model_module": "@jupyter-widgets/controls",
            "_model_module_version": "1.5.0",
            "_model_name": "DescriptionStyleModel",
            "_view_count": null,
            "_view_module": "@jupyter-widgets/base",
            "_view_module_version": "1.2.0",
            "_view_name": "StyleView",
            "description_width": ""
          }
        },
        "c6cec5df6a714c6085d97c45eb816b05": {
          "model_module": "@jupyter-widgets/base",
          "model_name": "LayoutModel",
          "model_module_version": "1.2.0",
          "state": {
            "_model_module": "@jupyter-widgets/base",
            "_model_module_version": "1.2.0",
            "_model_name": "LayoutModel",
            "_view_count": null,
            "_view_module": "@jupyter-widgets/base",
            "_view_module_version": "1.2.0",
            "_view_name": "LayoutView",
            "align_content": null,
            "align_items": null,
            "align_self": null,
            "border": null,
            "bottom": null,
            "display": null,
            "flex": null,
            "flex_flow": null,
            "grid_area": null,
            "grid_auto_columns": null,
            "grid_auto_flow": null,
            "grid_auto_rows": null,
            "grid_column": null,
            "grid_gap": null,
            "grid_row": null,
            "grid_template_areas": null,
            "grid_template_columns": null,
            "grid_template_rows": null,
            "height": null,
            "justify_content": null,
            "justify_items": null,
            "left": null,
            "margin": null,
            "max_height": null,
            "max_width": null,
            "min_height": null,
            "min_width": null,
            "object_fit": null,
            "object_position": null,
            "order": null,
            "overflow": null,
            "overflow_x": null,
            "overflow_y": null,
            "padding": null,
            "right": null,
            "top": null,
            "visibility": null,
            "width": null
          }
        },
        "bf55f2d3175b4c80b1dd76cdaa35115b": {
          "model_module": "@jupyter-widgets/controls",
          "model_name": "ProgressStyleModel",
          "model_module_version": "1.5.0",
          "state": {
            "_model_module": "@jupyter-widgets/controls",
            "_model_module_version": "1.5.0",
            "_model_name": "ProgressStyleModel",
            "_view_count": null,
            "_view_module": "@jupyter-widgets/base",
            "_view_module_version": "1.2.0",
            "_view_name": "StyleView",
            "bar_color": null,
            "description_width": ""
          }
        },
        "291725b9a09d4253bc2e190c866ebd05": {
          "model_module": "@jupyter-widgets/base",
          "model_name": "LayoutModel",
          "model_module_version": "1.2.0",
          "state": {
            "_model_module": "@jupyter-widgets/base",
            "_model_module_version": "1.2.0",
            "_model_name": "LayoutModel",
            "_view_count": null,
            "_view_module": "@jupyter-widgets/base",
            "_view_module_version": "1.2.0",
            "_view_name": "LayoutView",
            "align_content": null,
            "align_items": null,
            "align_self": null,
            "border": null,
            "bottom": null,
            "display": null,
            "flex": null,
            "flex_flow": null,
            "grid_area": null,
            "grid_auto_columns": null,
            "grid_auto_flow": null,
            "grid_auto_rows": null,
            "grid_column": null,
            "grid_gap": null,
            "grid_row": null,
            "grid_template_areas": null,
            "grid_template_columns": null,
            "grid_template_rows": null,
            "height": null,
            "justify_content": null,
            "justify_items": null,
            "left": null,
            "margin": null,
            "max_height": null,
            "max_width": null,
            "min_height": null,
            "min_width": null,
            "object_fit": null,
            "object_position": null,
            "order": null,
            "overflow": null,
            "overflow_x": null,
            "overflow_y": null,
            "padding": null,
            "right": null,
            "top": null,
            "visibility": null,
            "width": null
          }
        },
        "69410fec719d4ca498c806a9f1bd5c24": {
          "model_module": "@jupyter-widgets/controls",
          "model_name": "DescriptionStyleModel",
          "model_module_version": "1.5.0",
          "state": {
            "_model_module": "@jupyter-widgets/controls",
            "_model_module_version": "1.5.0",
            "_model_name": "DescriptionStyleModel",
            "_view_count": null,
            "_view_module": "@jupyter-widgets/base",
            "_view_module_version": "1.2.0",
            "_view_name": "StyleView",
            "description_width": ""
          }
        }
      }
    }
  },
  "cells": [
    {
      "cell_type": "code",
      "execution_count": 1,
      "metadata": {
        "id": "9NZ1_e3sCOMM",
        "colab": {
          "base_uri": "https://localhost:8080/"
        },
        "outputId": "dbc0694b-d1c1-4e60-e5c1-203f573add6b"
      },
      "outputs": [
        {
          "output_type": "stream",
          "name": "stdout",
          "text": [
            "Installation is completed successfully.\n"
          ]
        }
      ],
      "source": [
        "from google.colab import output\n",
        "\n",
        "!pip install -q clearml\n",
        "\n",
        "output.clear()\n",
        "print(\"Installation is completed successfully.\")"
      ]
    },
    {
      "cell_type": "code",
      "source": [
        "# # Log in to your clearml account\n",
        "# import clearml\n",
        "# clearml.browser_login()"
      ],
      "metadata": {
        "id": "c43zQbhwLl85"
      },
      "execution_count": 2,
      "outputs": []
    },
    {
      "cell_type": "code",
      "source": [
        "from clearml import Task\n",
        "\n",
        "Task.set_credentials(\n",
        "     api_host=\"https://api.clear.ml\", \n",
        "     web_host=\"https://app.clear.ml\", \n",
        "     files_host=\"https://files.clear.ml\", \n",
        "     key='', # access API\n",
        "     secret='' # secret API\n",
        ")"
      ],
      "metadata": {
        "id": "7esBdmzSCPvQ"
      },
      "execution_count": 3,
      "outputs": []
    },
    {
      "cell_type": "code",
      "source": [
        "import numpy as np\n",
        "import torch\n",
        "import torch.nn as nn\n",
        "import torch.nn.functional as F\n",
        "from torchvision import datasets\n",
        "from torch.utils.data import DataLoader\n",
        "import torchvision.transforms as transforms\n",
        "from sklearn.metrics import accuracy_score\n",
        "from tqdm import tqdm"
      ],
      "metadata": {
        "id": "PUP5yEcfCQbD"
      },
      "execution_count": 4,
      "outputs": []
    },
    {
      "cell_type": "code",
      "source": [
        "# Loading Data\n",
        "\n",
        "# MNIST dataset\n",
        "def make_loader(batch_size, train=True, shuffle=True):\n",
        "    full_dataset = datasets.MNIST(root='./data/MNIST', train=train, \n",
        "                                    download=True,  transform=transforms.ToTensor())\n",
        "    \n",
        "    loader = DataLoader(dataset=full_dataset,\n",
        "                        batch_size=batch_size, \n",
        "                        shuffle=shuffle,\n",
        "                        pin_memory=True, num_workers=2)\n",
        "\n",
        "    return loader"
      ],
      "metadata": {
        "id": "5gqhSmr8CWAt"
      },
      "execution_count": 5,
      "outputs": []
    },
    {
      "cell_type": "code",
      "source": [
        "class ConvNet(nn.Module):\n",
        "    def __init__(self, classes=10):\n",
        "        super(ConvNet, self).__init__()\n",
        "        # self.fc1 = nn.Linear(784, 512)\n",
        "        # self.fc2 = nn.Linear(512, 256)\n",
        "        # self.fc3 = nn.Linear(256, 128)\n",
        "        # self.fc4 = nn.Linear(128, 64)\n",
        "        # self.fc5 = nn.Linear(64, 32)\n",
        "        # self.fc6 = nn.Linear(32, 10)\n",
        "\n",
        "        self.fc1 = nn.Linear(784, 256)\n",
        "        # self.fc2 = nn.Linear(512, 256)\n",
        "        self.fc2 = nn.Linear(256, 64)\n",
        "        # self.fc4 = nn.Linear(128, 64)\n",
        "        self.fc3 = nn.Linear(64, 10)\n",
        "        # self.fc6 = nn.Linear(32, 10)\n",
        "\n",
        "    def forward(self, x):\n",
        "        x = x.float()\n",
        "        h1 = F.relu(self.fc1(x.view(-1, 784)))\n",
        "        h2 = F.relu(self.fc2(h1))\n",
        "        # h3 = F.relu(self.fc3(h2))\n",
        "        # h4 = F.relu(self.fc4(h3))\n",
        "        # h5 = F.relu(self.fc5(h4))\n",
        "        h3 = self.fc3(h2)\n",
        "        \n",
        "        return F.log_softmax(h3, dim=1)\n",
        "\n",
        "print(\"init model done\")"
      ],
      "metadata": {
        "colab": {
          "base_uri": "https://localhost:8080/"
        },
        "id": "vyfgGGLpCank",
        "outputId": "8c03b6d0-3d0e-4273-dd89-a37957eff120"
      },
      "execution_count": 6,
      "outputs": [
        {
          "output_type": "stream",
          "name": "stdout",
          "text": [
            "init model done\n"
          ]
        }
      ]
    },
    {
      "cell_type": "code",
      "source": [
        "def train(model, loader, criterion, optimizer, device, config):\n",
        "    cumu_loss = 0\n",
        "    tqdm_loader = tqdm(loader)\n",
        "\n",
        "    for images, labels in tqdm_loader:\n",
        "        images, labels = images.to(device), labels.to(device)\n",
        "        logit = model(images)\n",
        "        loss = criterion(logit, labels)\n",
        "        cumu_loss += loss.item()\n",
        "        optimizer.zero_grad()\n",
        "        loss.backward()\n",
        "        optimizer.step()\n",
        "        \n",
        "    return loss"
      ],
      "metadata": {
        "id": "KlaYXs4UCle5"
      },
      "execution_count": 7,
      "outputs": []
    },
    {
      "cell_type": "code",
      "source": [
        "def valid(model, test_loader, first_batch_only=False):\n",
        "    model.eval()\n",
        "    acc_list = []\n",
        "    labels_list = []\n",
        "    pred_list = []\n",
        "    \n",
        "    with torch.no_grad():\n",
        "        tqdm_loader = tqdm(test_loader)\n",
        "        for images, labels in tqdm_loader:\n",
        "            logit = model(images)\n",
        "            pred = torch.argmax(logit, dim=1)\n",
        "            batch_acc = accuracy_score(labels, pred)\n",
        "            acc_list.append(batch_acc)\n",
        "            labels_list.append(labels)\n",
        "            pred_list.append(pred)\n",
        "\n",
        "            if first_batch_only:\n",
        "                break\n",
        "\n",
        "    return sum(acc_list) / len(acc_list), labels_list, pred_list"
      ],
      "metadata": {
        "id": "UyIMdE6MCmgi"
      },
      "execution_count": 8,
      "outputs": []
    },
    {
      "cell_type": "code",
      "source": [
        "from clearml import Task\n",
        "import torch.optim as optim\n",
        "\n",
        "def run(config=None):\n",
        "    task = Task.init(project_name='MNIST-project', task_name='experiment')\n",
        "    task.connect(config, 'config')\n",
        "\n",
        "    device = \"cuda\" if torch.cuda.is_available() else \"cpu\"\n",
        "\n",
        "    train_loader = make_loader(batch_size=config['batch_size'], train=True)\n",
        "    test_loader = make_loader(batch_size=config['batch_size'], train=False)\n",
        "\n",
        "    # model = ConvNet(config['kernels'], config['classes']).to(device)\n",
        "    model = ConvNet().to(device)\n",
        "    criterion = nn.CrossEntropyLoss()\n",
        "    optimizer = torch.optim.Adam(model.parameters(), lr=config['learning_rate'])\n",
        "\n",
        "    for epoch in range(1, config['epochs']):\n",
        "        loss = train(model, train_loader, criterion, optimizer, device, config)\n",
        "        # acc = valid(model, test_loader)\n",
        "        acc, _, _ = valid(model, test_loader)\n",
        "\n",
        "        print(f\"[Train] Epoch {epoch:02} | Loss: {loss:.2f}\")\n",
        "        print(f\"[Vaild] Epoch {epoch:02} | Acc: {acc:.3f}\")\n",
        "\n",
        "        task.get_logger().report_scalar(title=\"Loss\", series=\"train\", value=loss, iteration=epoch)\n",
        "        task.get_logger().report_scalar(title=\"Accuracy\", series=\"val\", value=acc, iteration=epoch)        \n",
        "    \n",
        "        # if epoch % 5 == 0:\n",
        "        #     acc = valid(model, test_loader)\n",
        "        #     print(f\"[Valid] Epoch {epoch:02} | Acc: {acc:.3f}\")\n",
        "        #     task.get_logger().report_scalar(title=\"Accuracy\", series=\"val\", value=acc, iteration=epoch)\n",
        "            \n",
        "    return model"
      ],
      "metadata": {
        "id": "o47KAU-FCnpG"
      },
      "execution_count": 9,
      "outputs": []
    },
    {
      "cell_type": "code",
      "source": [
        "config  = {\n",
        "    'epochs': 2,\n",
        "    'classes':10,\n",
        "    'batch_size': 128,\n",
        "    # 'kernels': [16, 32],\n",
        "    'weight_decay': 0.0005,\n",
        "    'learning_rate': 1e-3,\n",
        "    'dataset': 'MNIST',\n",
        "    'architecture': 'CNN',\n",
        "    'val_evrey' : 5,\n",
        "    'seed': 42\n",
        "    }"
      ],
      "metadata": {
        "id": "Y5vQjlv-H5aH"
      },
      "execution_count": 10,
      "outputs": []
    },
    {
      "cell_type": "code",
      "source": [
        "model = run(config)"
      ],
      "metadata": {
        "colab": {
          "base_uri": "https://localhost:8080/",
          "height": 604,
          "referenced_widgets": [
            "2cea3f9d41ea47a99e0b73a0c3d40ee6",
            "450acf04d4b442219d5f12ba81b7c39c",
            "e8eb0f3c48d8418cae6a722857b7444c",
            "fab0480f035a4f928efb877d198b36f2",
            "f69a1a6811174962bc666710ff31d7b5",
            "511a47798523407e80370d4a95369e31",
            "45c482dab0094a499fb5c9a03fc6f608",
            "6f3c7fe5e9994161927bb542002991ed",
            "53ff86f7f91e4da383bdfc656aee6a8d",
            "72bafb4144a84eb0a320daba65ee337f",
            "da343ae52f8c4314ba5fa839da0b7e3d",
            "49868a16aa204fc7b6c0b3e94f329b85",
            "b4448c9635524f98aa58c276fde9aa93",
            "c22185e3688a4868b099edecc4526e32",
            "c633e4b3edf44a2d91964158df7d53b0",
            "e5a4c758697d4cd7a9c6615068495599",
            "1defd0c1cbee4c4788cb4e22443bfdd0",
            "fd5355d652314293ace2365dab95a29b",
            "31e6dfa0b423421ca899bf0496520d37",
            "27c1d05883c44072aa0c015f0998cf8e",
            "72b4b1b0d8324bdf9fa6bf5a300d5ec4",
            "4afc21150e7942a78bba62fa67b4895c",
            "2696d570e6ca40d2b82834a711465326",
            "5bdc422cb44a4a8a9a9cdb8cde010e79",
            "4712462623524db0b81be4598a67a701",
            "4faac71bc31d4a7593e64779e74cb95a",
            "b53aa2917019445fb3bf749f02c10076",
            "501fa4d36af54501ba457c537c292285",
            "21ee76bda6354a07b884ed42f099de03",
            "10cb0c32928c4040bcf788c25724ffd3",
            "4f320b82e56b4ca6b7a7daf082648ea9",
            "04cbd0e2c46f48efbef449fe596dc50f",
            "1aa5b4fc3c114bd78364937e1cf677bf",
            "75fd8b189dff447595836bea8bf8a2d0",
            "03bff3c81c5c4902b933c0054075f7e6",
            "01d65e590d9047238a15bcfdf9538718",
            "0e62b2ce5a5a4a6a8b5998590cf5951c",
            "3d8f76a77dcc4b32add2a25bf6e8a261",
            "fa435dfc07eb423086c1ef50f6ae1524",
            "7b83ab254f5d4069ab690b5a00099afa",
            "c6cec5df6a714c6085d97c45eb816b05",
            "bf55f2d3175b4c80b1dd76cdaa35115b",
            "291725b9a09d4253bc2e190c866ebd05",
            "69410fec719d4ca498c806a9f1bd5c24"
          ]
        },
        "id": "0YOBp3heCpBh",
        "outputId": "b482ad95-a32f-4401-f5c4-e5ae7e5be1c3"
      },
      "execution_count": 11,
      "outputs": [
        {
          "output_type": "stream",
          "name": "stdout",
          "text": [
            "ClearML Task: created new task id=a4540db4f6774a75b70dce7121b37fd8\n",
            "ClearML results page: https://app.clear.ml/projects/003030b030f54a5aa0f86f0ab9c6fdf6/experiments/a4540db4f6774a75b70dce7121b37fd8/output/log\n",
            "2023-04-02 15:32:43,874 - clearml.Task - INFO - Storing jupyter notebook directly as code\n",
            "Downloading http://yann.lecun.com/exdb/mnist/train-images-idx3-ubyte.gz\n",
            "Downloading http://yann.lecun.com/exdb/mnist/train-images-idx3-ubyte.gz to ./data/MNIST/MNIST/raw/train-images-idx3-ubyte.gz\n"
          ]
        },
        {
          "output_type": "display_data",
          "data": {
            "text/plain": [
              "  0%|          | 0/9912422 [00:00<?, ?it/s]"
            ],
            "application/vnd.jupyter.widget-view+json": {
              "version_major": 2,
              "version_minor": 0,
              "model_id": "2cea3f9d41ea47a99e0b73a0c3d40ee6"
            }
          },
          "metadata": {}
        },
        {
          "output_type": "stream",
          "name": "stdout",
          "text": [
            "Extracting ./data/MNIST/MNIST/raw/train-images-idx3-ubyte.gz to ./data/MNIST/MNIST/raw\n",
            "ClearML results page: https://app.clear.ml/projects/003030b030f54a5aa0f86f0ab9c6fdf6/experiments/a4540db4f6774a75b70dce7121b37fd8/output/log\n",
            "ClearML Monitor: GPU monitoring failed getting GPU reading, switching off GPU monitoring\n",
            "\n",
            "Downloading http://yann.lecun.com/exdb/mnist/train-labels-idx1-ubyte.gz\n",
            "Downloading http://yann.lecun.com/exdb/mnist/train-labels-idx1-ubyte.gz to ./data/MNIST/MNIST/raw/train-labels-idx1-ubyte.gz\n"
          ]
        },
        {
          "output_type": "display_data",
          "data": {
            "text/plain": [
              "  0%|          | 0/28881 [00:00<?, ?it/s]"
            ],
            "application/vnd.jupyter.widget-view+json": {
              "version_major": 2,
              "version_minor": 0,
              "model_id": "49868a16aa204fc7b6c0b3e94f329b85"
            }
          },
          "metadata": {}
        },
        {
          "output_type": "stream",
          "name": "stdout",
          "text": [
            "Extracting ./data/MNIST/MNIST/raw/train-labels-idx1-ubyte.gz to ./data/MNIST/MNIST/raw\n",
            "\n",
            "Downloading http://yann.lecun.com/exdb/mnist/t10k-images-idx3-ubyte.gz\n",
            "Downloading http://yann.lecun.com/exdb/mnist/t10k-images-idx3-ubyte.gz to ./data/MNIST/MNIST/raw/t10k-images-idx3-ubyte.gz\n"
          ]
        },
        {
          "output_type": "display_data",
          "data": {
            "text/plain": [
              "  0%|          | 0/1648877 [00:00<?, ?it/s]"
            ],
            "application/vnd.jupyter.widget-view+json": {
              "version_major": 2,
              "version_minor": 0,
              "model_id": "2696d570e6ca40d2b82834a711465326"
            }
          },
          "metadata": {}
        },
        {
          "output_type": "stream",
          "name": "stdout",
          "text": [
            "Extracting ./data/MNIST/MNIST/raw/t10k-images-idx3-ubyte.gz to ./data/MNIST/MNIST/raw\n",
            "\n",
            "Downloading http://yann.lecun.com/exdb/mnist/t10k-labels-idx1-ubyte.gz\n",
            "Downloading http://yann.lecun.com/exdb/mnist/t10k-labels-idx1-ubyte.gz to ./data/MNIST/MNIST/raw/t10k-labels-idx1-ubyte.gz\n"
          ]
        },
        {
          "output_type": "display_data",
          "data": {
            "text/plain": [
              "  0%|          | 0/4542 [00:00<?, ?it/s]"
            ],
            "application/vnd.jupyter.widget-view+json": {
              "version_major": 2,
              "version_minor": 0,
              "model_id": "75fd8b189dff447595836bea8bf8a2d0"
            }
          },
          "metadata": {}
        },
        {
          "output_type": "stream",
          "name": "stdout",
          "text": [
            "Extracting ./data/MNIST/MNIST/raw/t10k-labels-idx1-ubyte.gz to ./data/MNIST/MNIST/raw\n",
            "\n"
          ]
        },
        {
          "output_type": "stream",
          "name": "stderr",
          "text": [
            "100%|██████████| 469/469 [00:16<00:00, 28.98it/s]\n",
            "100%|██████████| 79/79 [00:02<00:00, 26.87it/s]"
          ]
        },
        {
          "output_type": "stream",
          "name": "stdout",
          "text": [
            "[Train] Epoch 01 | Loss: 0.15\n",
            "[Vaild] Epoch 01 | Acc: 0.946\n"
          ]
        },
        {
          "output_type": "stream",
          "name": "stderr",
          "text": [
            "\n"
          ]
        }
      ]
    },
    {
      "cell_type": "code",
      "source": [
        "import matplotlib.pyplot as plt\n",
        "\n",
        "def plot_example(loader, img_row, img_column, pred=[]):\n",
        "    if img_column > 9:\n",
        "        print(\"Maximum number of img_column is 9.\")\n",
        "        return\n",
        "\n",
        "    tqdm_loader = tqdm(loader)\n",
        "\n",
        "    for images, labels in tqdm_loader:\n",
        "        images = torch.squeeze(images)\n",
        "        labels = labels.numpy()\n",
        "\n",
        "        for idx in range(img_row * img_column):\n",
        "            if idx % img_column == 0:\n",
        "                plt.figure()\n",
        "\n",
        "            plt.subplot(101 + (img_column)*10 + (idx % img_column))\n",
        "            plt.imshow(images[idx])\n",
        "            plt.xticks([])\n",
        "            plt.yticks([])\n",
        "            if pred:\n",
        "                plt.title(str(labels[idx]) + ' -> ' + str(pred[idx]))\n",
        "            else:\n",
        "                plt.title(labels[idx])\n",
        "        \n",
        "        break"
      ],
      "metadata": {
        "id": "kFK2IFvHICO2"
      },
      "execution_count": 15,
      "outputs": []
    },
    {
      "cell_type": "code",
      "source": [
        "# train dataset\n",
        "img_row = 5\n",
        "img_column = 5 # max 9\n",
        "train_loader = make_loader(batch_size=img_row*img_column, train=True, shuffle=False)\n",
        "plot_example(train_loader, img_row, img_column)"
      ],
      "metadata": {
        "colab": {
          "base_uri": "https://localhost:8080/",
          "height": 670
        },
        "id": "qfLlX5m8Se3m",
        "outputId": "3f0f6f3c-4f95-406d-dc10-94834404843c"
      },
      "execution_count": 16,
      "outputs": [
        {
          "output_type": "stream",
          "name": "stderr",
          "text": [
            "  0%|          | 0/2400 [00:00<?, ?it/s]\n"
          ]
        },
        {
          "output_type": "display_data",
          "data": {
            "text/plain": [
              "<Figure size 640x480 with 5 Axes>"
            ],
            "image/png": "[encoded data removed]"
          },
          "metadata": {}
        },
        {
          "output_type": "display_data",
          "data": {
            "text/plain": [
              "<Figure size 640x480 with 5 Axes>"
            ],
            "image/png": "[encoded data removed]"
          },
          "metadata": {}
        },
        {
          "output_type": "display_data",
          "data": {
            "text/plain": [
              "<Figure size 640x480 with 5 Axes>"
            ],
            "image/png": "[encoded data removed]"
          },
          "metadata": {}
        },
        {
          "output_type": "display_data",
          "data": {
            "text/plain": [
              "<Figure size 640x480 with 5 Axes>"
            ],
            "image/png": "[encoded data removed]"
          },
          "metadata": {}
        },
        {
          "output_type": "display_data",
          "data": {
            "text/plain": [
              "<Figure size 640x480 with 5 Axes>"
            ],
            "image/png": "[encoded data removed]"
          },
          "metadata": {}
        }
      ]
    },
    {
      "cell_type": "code",
      "source": [
        "# test dataset (labels -> pred)\n",
        "test_loader = make_loader(batch_size=img_row*img_column, train=False, shuffle=False)\n",
        "acc, labels, pred = valid(model, test_loader, first_batch_only=True)\n",
        "print()\n",
        "print(acc)\n",
        "print(labels[0])\n",
        "print(pred[0])\n",
        "\n",
        "img_row = 5\n",
        "img_column = 5 # max 9\n",
        "plot_example(test_loader, img_row, img_column, pred[0].tolist())"
      ],
      "metadata": {
        "colab": {
          "base_uri": "https://localhost:8080/",
          "height": 799
        },
        "id": "7F0T0kXCbCZS",
        "outputId": "a9649c10-7a17-42ef-9abf-f1bc2c4baed1"
      },
      "execution_count": 17,
      "outputs": [
        {
          "output_type": "stream",
          "name": "stderr",
          "text": [
            "  0%|          | 0/400 [00:00<?, ?it/s]\n"
          ]
        },
        {
          "output_type": "stream",
          "name": "stdout",
          "text": [
            "\n",
            "0.96\n",
            "tensor([7, 2, 1, 0, 4, 1, 4, 9, 5, 9, 0, 6, 9, 0, 1, 5, 9, 7, 3, 4, 9, 6, 6, 5,\n",
            "        4])\n",
            "tensor([7, 2, 1, 0, 4, 1, 4, 9, 6, 9, 0, 6, 9, 0, 1, 5, 9, 7, 3, 4, 9, 6, 6, 5,\n",
            "        4])\n"
          ]
        },
        {
          "output_type": "stream",
          "name": "stderr",
          "text": [
            "  0%|          | 0/400 [00:01<?, ?it/s]\n"
          ]
        },
        {
          "output_type": "display_data",
          "data": {
            "text/plain": [
              "<Figure size 640x480 with 5 Axes>"
            ],
            "image/png": "[encoded data removed]"
          },
          "metadata": {}
        },
        {
          "output_type": "display_data",
          "data": {
            "text/plain": [
              "<Figure size 640x480 with 5 Axes>"
            ],
            "image/png": "[encoded data removed]"
          },
          "metadata": {}
        },
        {
          "output_type": "display_data",
          "data": {
            "text/plain": [
              "<Figure size 640x480 with 5 Axes>"
            ],
            "image/png": "[encoded data removed]"
          },
          "metadata": {}
        },
        {
          "output_type": "display_data",
          "data": {
            "text/plain": [
              "<Figure size 640x480 with 5 Axes>"
            ],
            "image/png": "[encoded data removed]"
          },
          "metadata": {}
        },
        {
          "output_type": "display_data",
          "data": {
            "text/plain": [
              "<Figure size 640x480 with 5 Axes>"
            ],
            "image/png": "[encoded data removed]"
          },
          "metadata": {}
        }
      ]
    },
    {
      "cell_type": "code",
      "source": [
        "# test dataset (labels -> pred)\n",
        "# extract error only\n",
        "err_test_loader = make_loader(batch_size=1, train=False, shuffle=False)\n",
        "\n",
        "err_image_list = []\n",
        "err_label_list = []\n",
        "err_pred_list = []\n",
        "\n",
        "with torch.no_grad():\n",
        "    tqdm_loader = tqdm(err_test_loader)\n",
        "    for images, labels in tqdm_loader:\n",
        "        logit = model(images)\n",
        "        pred = torch.argmax(logit, dim=1)\n",
        "        if labels != pred:\n",
        "            err_image_list.append(images.numpy())\n",
        "            err_label_list.append(labels.item())\n",
        "            err_pred_list.append(pred.item())\n",
        "\n",
        "print()\n",
        "print(len(err_image_list))\n",
        "print(err_label_list)\n",
        "print(err_pred_list)"
      ],
      "metadata": {
        "id": "NLHVMaeJbGQ7",
        "colab": {
          "base_uri": "https://localhost:8080/"
        },
        "outputId": "5bc09f45-2c9c-4325-84a2-69059133f288"
      },
      "execution_count": 18,
      "outputs": [
        {
          "output_type": "stream",
          "name": "stderr",
          "text": [
            "100%|██████████| 10000/10000 [00:29<00:00, 336.64it/s]"
          ]
        },
        {
          "output_type": "stream",
          "name": "stdout",
          "text": [
            "\n",
            "542\n",
            "[5, 2, 9, 7, 2, 9, 3, 6, 8, 9, 4, 6, 8, 2, 9, 2, 5, 6, 5, 2, 3, 5, 6, 5, 9, 8, 5, 3, 9, 8, 7, 4, 3, 2, 8, 1, 2, 7, 8, 4, 0, 5, 4, 8, 8, 8, 5, 3, 2, 3, 2, 8, 5, 1, 6, 2, 9, 6, 5, 7, 6, 3, 8, 9, 3, 5, 7, 6, 6, 0, 9, 7, 8, 8, 7, 9, 9, 8, 4, 9, 2, 7, 7, 5, 5, 8, 7, 7, 2, 8, 5, 5, 2, 2, 5, 9, 8, 6, 5, 7, 7, 7, 5, 1, 8, 4, 9, 9, 6, 7, 6, 2, 4, 9, 7, 2, 3, 9, 8, 2, 7, 7, 1, 2, 6, 8, 3, 8, 6, 1, 8, 7, 9, 5, 4, 5, 7, 9, 5, 5, 6, 2, 5, 7, 7, 5, 5, 4, 2, 8, 4, 9, 7, 2, 8, 3, 6, 5, 9, 4, 6, 1, 0, 2, 9, 2, 6, 5, 1, 8, 5, 9, 2, 7, 5, 4, 9, 8, 8, 9, 9, 6, 2, 6, 2, 2, 5, 5, 5, 5, 8, 5, 7, 2, 9, 6, 5, 7, 8, 6, 9, 4, 2, 2, 5, 4, 9, 6, 8, 3, 3, 3, 8, 6, 9, 9, 1, 5, 2, 5, 5, 6, 5, 7, 8, 9, 2, 8, 8, 6, 7, 2, 7, 7, 6, 4, 9, 2, 6, 3, 6, 5, 5, 8, 7, 7, 9, 7, 8, 8, 9, 8, 2, 5, 9, 4, 8, 7, 6, 7, 8, 5, 7, 5, 4, 2, 6, 7, 2, 2, 9, 8, 7, 7, 6, 5, 2, 9, 8, 2, 5, 5, 1, 9, 4, 3, 2, 8, 8, 3, 5, 9, 8, 9, 7, 6, 0, 5, 8, 9, 9, 5, 8, 5, 9, 2, 5, 2, 6, 7, 1, 2, 6, 1, 9, 2, 5, 2, 5, 3, 5, 2, 5, 5, 9, 5, 2, 8, 9, 7, 3, 6, 8, 9, 8, 6, 7, 5, 6, 4, 7, 8, 2, 8, 8, 8, 9, 9, 3, 8, 6, 9, 8, 9, 2, 8, 0, 7, 8, 2, 6, 8, 7, 8, 2, 3, 2, 9, 3, 3, 2, 3, 8, 8, 8, 1, 1, 8, 7, 8, 8, 7, 2, 1, 8, 7, 3, 5, 8, 7, 4, 7, 4, 5, 7, 3, 5, 4, 5, 3, 5, 3, 5, 2, 5, 5, 3, 3, 9, 9, 9, 9, 9, 9, 9, 9, 8, 5, 2, 0, 2, 9, 8, 9, 2, 0, 5, 8, 8, 9, 0, 5, 2, 2, 8, 8, 2, 2, 9, 6, 6, 5, 2, 8, 8, 8, 7, 4, 5, 2, 2, 2, 0, 2, 8, 8, 7, 2, 2, 5, 1, 6, 2, 2, 1, 7, 7, 2, 8, 1, 2, 8, 1, 5, 2, 2, 8, 3, 0, 3, 6, 8, 7, 4, 8, 8, 4, 8, 2, 2, 2, 5, 7, 7, 0, 7, 7, 1, 3, 2, 8, 2, 8, 6, 6, 5, 7, 9, 3, 3, 0, 9, 1, 1, 2, 6, 6, 2, 2, 5, 5, 8, 4, 5, 2, 2, 2, 5, 2, 9, 2, 2, 6, 6, 9, 8, 3, 3, 3, 5, 2, 5]\n",
            "[6, 3, 4, 4, 9, 8, 8, 5, 7, 8, 2, 0, 4, 3, 7, 7, 3, 4, 0, 7, 7, 3, 0, 8, 3, 0, 3, 5, 4, 3, 1, 9, 2, 8, 3, 8, 9, 3, 4, 9, 6, 8, 9, 9, 3, 7, 4, 5, 7, 5, 0, 9, 4, 2, 0, 3, 4, 5, 8, 9, 8, 7, 4, 3, 8, 4, 9, 1, 8, 7, 4, 9, 4, 3, 2, 3, 4, 5, 9, 0, 5, 1, 2, 4, 7, 3, 3, 9, 6, 2, 6, 3, 3, 7, 4, 4, 1, 4, 9, 9, 1, 9, 0, 6, 7, 6, 3, 3, 4, 9, 5, 4, 9, 4, 3, 0, 7, 3, 0, 4, 3, 4, 6, 9, 4, 9, 7, 7, 4, 4, 3, 9, 4, 8, 6, 0, 4, 3, 4, 3, 4, 0, 8, 2, 9, 3, 4, 8, 7, 4, 9, 4, 9, 0, 0, 7, 0, 9, 2, 9, 1, 2, 5, 3, 1, 3, 5, 8, 6, 0, 8, 0, 7, 3, 9, 9, 1, 3, 3, 1, 4, 4, 1, 8, 0, 4, 3, 3, 8, 8, 2, 3, 3, 8, 0, 1, 8, 4, 4, 0, 4, 9, 3, 0, 3, 9, 4, 4, 0, 2, 7, 5, 9, 5, 1, 7, 2, 3, 3, 4, 9, 0, 9, 4, 3, 3, 8, 7, 9, 4, 4, 3, 9, 9, 0, 9, 1, 7, 4, 2, 5, 0, 8, 5, 4, 9, 3, 0, 3, 4, 4, 3, 3, 3, 3, 9, 4, 9, 0, 2, 3, 4, 3, 8, 6, 8, 0, 3, 4, 4, 4, 3, 9, 1, 5, 0, 3, 4, 9, 8, 6, 3, 3, 3, 6, 5, 8, 7, 9, 4, 3, 4, 4, 4, 4, 5, 2, 3, 0, 7, 4, 3, 9, 1, 0, 4, 4, 3, 4, 9, 7, 1, 5, 3, 7, 8, 3, 7, 9, 7, 8, 3, 9, 9, 4, 6, 0, 4, 4, 3, 7, 0, 7, 1, 3, 5, 3, 6, 8, 9, 9, 4, 4, 9, 3, 7, 4, 8, 8, 0, 0, 4, 9, 0, 4, 4, 8, 1, 6, 3, 5, 4, 9, 9, 3, 8, 3, 4, 8, 4, 9, 4, 4, 4, 0, 6, 8, 3, 9, 4, 6, 9, 3, 5, 5, 9, 7, 3, 6, 9, 7, 5, 0, 3, 9, 0, 3, 9, 3, 8, 3, 8, 8, 0, 3, 3, 9, 8, 3, 3, 0, 0, 3, 3, 0, 0, 6, 8, 4, 6, 6, 0, 9, 4, 6, 7, 3, 7, 4, 4, 4, 9, 4, 8, 7, 5, 4, 7, 4, 4, 4, 6, 8, 9, 7, 3, 3, 8, 6, 9, 7, 7, 4, 8, 9, 9, 4, 3, 3, 6, 8, 0, 9, 4, 8, 9, 9, 4, 6, 8, 4, 0, 8, 8, 8, 8, 5, 8, 7, 5, 4, 6, 9, 9, 6, 6, 9, 6, 3, 3, 3, 6, 2, 2, 5, 2, 2, 8, 9, 8, 5, 3, 3, 4, 4, 3, 9, 4, 5, 8, 3, 7, 7, 7, 7, 5, 5, 8, 5, 0, 6, 1, 2, 6, 0, 0, 0, 0, 0, 4, 3, 7, 8, 0, 4, 6, 7, 5, 9, 3, 3, 6]\n"
          ]
        },
        {
          "output_type": "stream",
          "name": "stderr",
          "text": [
            "\n"
          ]
        }
      ]
    },
    {
      "cell_type": "code",
      "source": [
        "# test dataset (labels -> pred)\n",
        "# show error only\n",
        "img_row = 5\n",
        "img_column = 5 # max 9\n",
        "\n",
        "for idx in range(img_row * img_column):\n",
        "    if idx % img_column == 0:\n",
        "        plt.figure()\n",
        "\n",
        "    plt.subplot(101 + (img_column)*10 + (idx % img_column))\n",
        "    plt.imshow(err_image_list[idx].squeeze())\n",
        "    plt.xticks([])\n",
        "    plt.yticks([])\n",
        "    if pred:\n",
        "        plt.title(str(err_label_list[idx]) + ' -> ' + str(err_pred_list[idx]))\n",
        "    else:\n",
        "        plt.title(err_label_list[idx])\n"
      ],
      "metadata": {
        "colab": {
          "base_uri": "https://localhost:8080/",
          "height": 652
        },
        "id": "iAl-Y6O5myuu",
        "outputId": "5ca49b1c-9696-4bae-9323-e12c67b740ee"
      },
      "execution_count": 19,
      "outputs": [
        {
          "output_type": "display_data",
          "data": {
            "text/plain": [
              "<Figure size 640x480 with 5 Axes>"
            ],
            "image/png": "[encoded data removed]"
          },
          "metadata": {}
        },
        {
          "output_type": "display_data",
          "data": {
            "text/plain": [
              "<Figure size 640x480 with 5 Axes>"
            ],
            "image/png": "[encoded data removed]"
          },
          "metadata": {}
        },
        {
          "output_type": "display_data",
          "data": {
            "text/plain": [
              "<Figure size 640x480 with 5 Axes>"
            ],
            "image/png": "[encoded data removed]"
          },
          "metadata": {}
        },
        {
          "output_type": "display_data",
          "data": {
            "text/plain": [
              "<Figure size 640x480 with 5 Axes>"
            ],
            "image/png": "[encoded data removed]"
          },
          "metadata": {}
        },
        {
          "output_type": "display_data",
          "data": {
            "text/plain": [
              "<Figure size 640x480 with 5 Axes>"
            ],
            "image/png": "[encoded data removed]"
          },
          "metadata": {}
        }
      ]
    },
    {
      "cell_type": "code",
      "source": [],
      "metadata": {
        "id": "3yZilSb_m0qH"
      },
      "execution_count": null,
      "outputs": []
    }
  ]
}